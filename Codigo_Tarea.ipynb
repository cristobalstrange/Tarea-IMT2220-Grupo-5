{
 "cells": [
  {
   "cell_type": "markdown",
   "id": "6d028f2a-af7d-4816-bbbb-f4c283948c12",
   "metadata": {},
   "source": [
    "# Tarea computacional Calculo"
   ]
  },
  {
   "cell_type": "markdown",
   "id": "e0eef3c4-a029-4dda-92d4-a91448ee67ba",
   "metadata": {},
   "source": [
    "###\n",
    "Intregrantes:\n",
    "\n",
    "Bastian Ignacio Baez Oses\n",
    "\n",
    "Sergio Esteban Ramirez Rodriguez\n",
    "\n",
    "Cristobal Alonso Strange Silva"
   ]
  },
  {
   "cell_type": "code",
   "execution_count": 1,
   "id": "e1c42c33-683d-46ee-99fd-403185885e90",
   "metadata": {},
   "outputs": [],
   "source": [
    "import pandas as pd\n",
    "import matplotlib.pyplot as plt\n",
    "from math import exp"
   ]
  },
  {
   "cell_type": "code",
   "execution_count": 2,
   "id": "76067fc9-761c-456e-ada5-a04508dded89",
   "metadata": {},
   "outputs": [],
   "source": [
    "data_p2 = pd.read_csv(\"P2grupo_5.csv\", names = [\"ui\", \"vi\", \"wi\", \"zi\"])"
   ]
  },
  {
   "cell_type": "code",
   "execution_count": 3,
   "id": "d8e2db13-0a84-4882-a990-083594c7a6d2",
   "metadata": {},
   "outputs": [],
   "source": [
    "def duplicados(df):\n",
    "    print(f\"duplicados: {len(df) - len(df.duplicated())}\")\n",
    "    \n",
    "def datos_error(df):\n",
    "    return df.isna().sum().sum()"
   ]
  },
  {
   "cell_type": "code",
   "execution_count": 4,
   "id": "18abc5a8-363c-4996-9a40-207a116d0250",
   "metadata": {},
   "outputs": [
    {
     "name": "stdout",
     "output_type": "stream",
     "text": [
      "<class 'pandas.core.frame.DataFrame'>\n",
      "RangeIndex: 1000 entries, 0 to 999\n",
      "Data columns (total 4 columns):\n",
      " #   Column  Non-Null Count  Dtype  \n",
      "---  ------  --------------  -----  \n",
      " 0   X1      1000 non-null   float64\n",
      " 1   X2      1000 non-null   float64\n",
      " 2   X3      1000 non-null   float64\n",
      " 3   Y1      1000 non-null   float64\n",
      "dtypes: float64(4)\n",
      "memory usage: 31.4 KB\n"
     ]
    }
   ],
   "source": [
    "data_p2.info()"
   ]
  },
  {
   "cell_type": "code",
   "execution_count": 5,
   "id": "f25c7e82-38ef-4d07-846c-527c90a2a183",
   "metadata": {},
   "outputs": [
    {
     "data": {
      "text/html": [
       "<div>\n",
       "<style scoped>\n",
       "    .dataframe tbody tr th:only-of-type {\n",
       "        vertical-align: middle;\n",
       "    }\n",
       "\n",
       "    .dataframe tbody tr th {\n",
       "        vertical-align: top;\n",
       "    }\n",
       "\n",
       "    .dataframe thead th {\n",
       "        text-align: right;\n",
       "    }\n",
       "</style>\n",
       "<table border=\"1\" class=\"dataframe\">\n",
       "  <thead>\n",
       "    <tr style=\"text-align: right;\">\n",
       "      <th></th>\n",
       "      <th>X1</th>\n",
       "      <th>X2</th>\n",
       "      <th>X3</th>\n",
       "      <th>Y1</th>\n",
       "    </tr>\n",
       "  </thead>\n",
       "  <tbody>\n",
       "    <tr>\n",
       "      <th>0</th>\n",
       "      <td>-2.686493</td>\n",
       "      <td>1.194156</td>\n",
       "      <td>-1.523732</td>\n",
       "      <td>0.0</td>\n",
       "    </tr>\n",
       "    <tr>\n",
       "      <th>1</th>\n",
       "      <td>1.169620</td>\n",
       "      <td>4.006380</td>\n",
       "      <td>1.887160</td>\n",
       "      <td>1.0</td>\n",
       "    </tr>\n",
       "    <tr>\n",
       "      <th>2</th>\n",
       "      <td>0.465563</td>\n",
       "      <td>-1.786808</td>\n",
       "      <td>-1.379655</td>\n",
       "      <td>1.0</td>\n",
       "    </tr>\n",
       "    <tr>\n",
       "      <th>3</th>\n",
       "      <td>-1.577050</td>\n",
       "      <td>2.124255</td>\n",
       "      <td>3.133464</td>\n",
       "      <td>1.0</td>\n",
       "    </tr>\n",
       "    <tr>\n",
       "      <th>4</th>\n",
       "      <td>4.388471</td>\n",
       "      <td>2.247836</td>\n",
       "      <td>4.966874</td>\n",
       "      <td>1.0</td>\n",
       "    </tr>\n",
       "  </tbody>\n",
       "</table>\n",
       "</div>"
      ],
      "text/plain": [
       "         X1        X2        X3   Y1\n",
       "0 -2.686493  1.194156 -1.523732  0.0\n",
       "1  1.169620  4.006380  1.887160  1.0\n",
       "2  0.465563 -1.786808 -1.379655  1.0\n",
       "3 -1.577050  2.124255  3.133464  1.0\n",
       "4  4.388471  2.247836  4.966874  1.0"
      ]
     },
     "execution_count": 5,
     "metadata": {},
     "output_type": "execute_result"
    }
   ],
   "source": [
    "data_p2.head()"
   ]
  },
  {
   "cell_type": "code",
   "execution_count": 6,
   "id": "09b5242c-24b1-486f-8f95-b18d794de688",
   "metadata": {},
   "outputs": [
    {
     "data": {
      "text/plain": [
       "0"
      ]
     },
     "execution_count": 6,
     "metadata": {},
     "output_type": "execute_result"
    }
   ],
   "source": [
    "datos_error(data_p2)"
   ]
  },
  {
   "cell_type": "code",
   "execution_count": 7,
   "id": "8e798de5-32a3-438c-986d-acb77f260171",
   "metadata": {},
   "outputs": [
    {
     "ename": "SyntaxError",
     "evalue": "invalid syntax (3560847486.py, line 6)",
     "output_type": "error",
     "traceback": [
      "\u001b[1;36m  Cell \u001b[1;32mIn[7], line 6\u001b[1;36m\u001b[0m\n\u001b[1;33m    def\u001b[0m\n\u001b[1;37m        ^\u001b[0m\n\u001b[1;31mSyntaxError\u001b[0m\u001b[1;31m:\u001b[0m invalid syntax\n"
     ]
    }
   ],
   "source": [
    "## Funciones\n",
    "\n",
    "def sigmoidee(t: float):\n",
    "    return 1/(1 + exp(-t))\n",
    "\n",
    "def derivada_sigmoidee(t: float):\n",
    "    return (exp(-t)/(1 + exp(-t)) ** 2)\n",
    "\n",
    "def coeficiente_n(a, b, c, e, u ,v ,w): #phi\n",
    "    return a*u + b*v + c*w + e\n",
    "\n",
    "def coeficiente_m(a, b, c, d, e, f, u, v, w):\n",
    "    return d*(sigmoidee(coeficiente_n(a, b, c, e, u, v, w)) + f #lambda\n",
    "\n",
    "##gradientes\n",
    "              \n",
    "def gradiente_x(a, b, c, d, e, f, u, v, w, z, n):\n",
    "    for i in range(1, n+1):\n",
    "        z * derivada_sigmoidee(coeficiente_m(a, b, c, d, e, f, u, v, w)) * d * der\n",
    "              \n",
    "\n",
    "    \n",
    "    \n",
    "    \n",
    "    \n",
    "    \n",
    "    \n",
    "        \n",
    "        \n",
    "    \n",
    "    \n",
    "\n",
    "\n",
    "\n"
   ]
  },
  {
   "cell_type": "code",
   "execution_count": null,
   "id": "71fc80af-4cab-4945-9846-aa5ead4c9fd0",
   "metadata": {},
   "outputs": [],
   "source": [
    "# Función de activación sigmoide\n",
    "def sigmoide(t: float):\n",
    "    return 1/(1 + exp(-t))\n",
    "\n",
    "# Derivada de la función de activación sigmoide\n",
    "def derivada_sigmoide(t: float):\n",
    "    return (exp(-t)/(1 + exp(-t)) ** 2)\n",
    "\n",
    "# Función de pérdida del error cuadrático medio\n",
    "def funcion_perdida(X, z, a, b, c, d, e, f):\n",
    "    neurona_y = sigmoide(a * X[:, 0] + b * X[:, 1] + c * X[:, 2] + e)\n",
    "    predictions = sigmoide(d * neurona_y + f)\n",
    "    error = z - predictions\n",
    "    return 0.5 * np.mean(error**2)\n",
    "    \n",
    "\n",
    "# Descenso del gradiente\n",
    "def gradient_descent(X, y, a0, b0, c0, d0, e0, f0, epsilon, num_iterations):\n",
    "    J_values = []\n",
    "    a = a0\n",
    "    b = b0\n",
    "    c = c0\n",
    "    d = d0\n",
    "    e = e0\n",
    "    f = f0\n",
    "    \n",
    "    for iteration in range(num_iterations):\n",
    "        neurona_y = sigmoide(a * X[:, 0] + b * X[:, 1] + c * X[:, 2] + e)\n",
    "        predictions = sigmoide(d * neurona_y + f)\n",
    "        error = y - predictions\n",
    "        J = funcion_perdida(X, y, a, b, c, d, e, f)\n",
    "        J_values.append(J)\n",
    "        \n",
    "        a -= epsilon * np.mean(-(error * d * derivada_sigmoidee(a * X[:, 0] + b * X[:, 1] + c * X[:, 2] + e) * derivada_sigmoide(a * X[:, 0] + b * X[:, 1] + c * X[:, 2] + e)) * X[:, 0])\n",
    "        b -= epsilon * np.mean(-(error * d * derivada_sigmoide(a * X[:, 0] + b * X[:, 1] + c * X[:, 2] + e) * derivada_sigmoide(a * X[:, 0] + b * X[:, 1] + c * X[:, 2] + e)) * X[:, 1])\n",
    "        c -= epsilon * np.mean(-(error * d * derivada_sigmoide(a * X[:, 0] + b * X[:, 1] + c * X[:, 2] + e) * derivada_sigmoide(a * X[:, 0] + b * X[:, 1] + c * X[:, 2] + e)) * X[:, 2])\n",
    "        d -= epsilon * np.mean(-(error * derivada_sigmoide(d * neurona_y + f) * derivada_sigmoide(d * neurona_y + f)) * neurona_y)\n",
    "        e -= epsilon * np.mean(-(error * d * derivada_sigmoide(a * X[:, 0] + b * X[:, 1] + c * X[:, 2] + e) * derivada_sigmoide(a * X[:, 0] + b * X[:, 1] + c * X[:, 2] + e)))\n",
    "        f -= epsilon * np.mean(-(error * derivada_sigmoide(d * neurona_y + f) * derivada_sigmoide(d * neurona_y + f)))\n",
    "    \n",
    "    return a, b, c, d, e, f, J_values\n",
    "\n",
    "# Leer los datos de entrenamiento con pandas\n",
    "data = pd.read_csv('datos_entrenamiento.csv')\n",
    "X_train = data[['ui', 'vi', 'wi']].values\n",
    "y_train = data['zi'].values\n",
    "\n",
    "# Parámetros de la red neuronal\n",
    "np.random.seed(0)\n",
    "a0 = np.random.uniform(-5, 5)\n",
    "b0 = np.random.uniform(-5, 5)\n",
    "c0 = np.random.uniform(-5, 5)\n",
    "d0 = np.random.uniform(-5, 5)\n",
    "e0 = np.random.uniform(-5, 5)\n",
    "f0 = np.random.uniform(-5, 5)\n",
    "\n",
    "# Hiperparámetros del descenso del gradiente\n",
    "epsilon = 0.1\n",
    "num_iterations = 2000\n",
    "\n",
    "# Aplicar descenso del gradiente\n",
    "a2000, b2000, c2000, d2000, e2000, f2000, J_values = gradient_descent(X_train, y_train, a0, b0, c0, d0, e0, f0, epsilon, num_iterations)\n",
    "\n",
    "# Valor final de J\n",
    "J_final = J_values[-1]\n",
    "\n",
    "# Imprimir resultados\n",
    "print(\"Valores finales:\")\n",
    "print(\"a2000 =\", a2000)\n",
    "print(\"b2000 =\", b2000)\n",
    "print(\"c2000 =\", c2000)\n",
    "print(\"d2000 =\", d2000)\n",
    "print(\"e2000 =\", e2000)\n",
    "print(\"f2000 =\", f2000)\n",
    "print(\"J(a2000, b2000, c2000, d2000, e2000, f2000) =\", J_final)\n",
    "\n",
    "# Graficar la evolución de J\n",
    "plt.plot(J_values)\n",
    "plt.xlabel('Iteraciones')\n",
    "plt.ylabel('Valor de J')\n",
    "plt.title('Evolución del error')\n",
    "plt.show()"
   ]
  }
 ],
 "metadata": {
  "kernelspec": {
   "display_name": "Python 3 (ipykernel)",
   "language": "python",
   "name": "python3"
  },
  "language_info": {
   "codemirror_mode": {
    "name": "ipython",
    "version": 3
   },
   "file_extension": ".py",
   "mimetype": "text/x-python",
   "name": "python",
   "nbconvert_exporter": "python",
   "pygments_lexer": "ipython3",
   "version": "3.10.6"
  }
 },
 "nbformat": 4,
 "nbformat_minor": 5
}
