{
 "cells": [
  {
   "cell_type": "code",
   "execution_count": 37,
   "id": "8b80b967",
   "metadata": {},
   "outputs": [],
   "source": [
    "import numpy as np\n",
    "import pandas as pd\n",
    "import seaborn as sns\n",
    "import matplotlib.pyplot as plt\n",
    "from math import exp"
   ]
  },
  {
   "cell_type": "code",
   "execution_count": 4,
   "id": "61b47247",
   "metadata": {},
   "outputs": [
    {
     "data": {
      "text/html": [
       "<div>\n",
       "<style scoped>\n",
       "    .dataframe tbody tr th:only-of-type {\n",
       "        vertical-align: middle;\n",
       "    }\n",
       "\n",
       "    .dataframe tbody tr th {\n",
       "        vertical-align: top;\n",
       "    }\n",
       "\n",
       "    .dataframe thead th {\n",
       "        text-align: right;\n",
       "    }\n",
       "</style>\n",
       "<table border=\"1\" class=\"dataframe\">\n",
       "  <thead>\n",
       "    <tr style=\"text-align: right;\">\n",
       "      <th></th>\n",
       "      <th>x</th>\n",
       "      <th>y</th>\n",
       "    </tr>\n",
       "  </thead>\n",
       "  <tbody>\n",
       "    <tr>\n",
       "      <th>0</th>\n",
       "      <td>0.005</td>\n",
       "      <td>1.681746</td>\n",
       "    </tr>\n",
       "    <tr>\n",
       "      <th>1</th>\n",
       "      <td>0.024</td>\n",
       "      <td>1.242354</td>\n",
       "    </tr>\n",
       "    <tr>\n",
       "      <th>2</th>\n",
       "      <td>0.026</td>\n",
       "      <td>3.893214</td>\n",
       "    </tr>\n",
       "    <tr>\n",
       "      <th>3</th>\n",
       "      <td>0.031</td>\n",
       "      <td>4.679515</td>\n",
       "    </tr>\n",
       "    <tr>\n",
       "      <th>4</th>\n",
       "      <td>0.036</td>\n",
       "      <td>2.742924</td>\n",
       "    </tr>\n",
       "  </tbody>\n",
       "</table>\n",
       "</div>"
      ],
      "text/plain": [
       "       x         y\n",
       "0  0.005  1.681746\n",
       "1  0.024  1.242354\n",
       "2  0.026  3.893214\n",
       "3  0.031  4.679515\n",
       "4  0.036  2.742924"
      ]
     },
     "execution_count": 4,
     "metadata": {},
     "output_type": "execute_result"
    }
   ],
   "source": [
    "df = pd.read_csv(\"P1grupo_5.csv\")\n",
    "df.head()"
   ]
  },
  {
   "cell_type": "code",
   "execution_count": 8,
   "id": "44b2f02d",
   "metadata": {},
   "outputs": [
    {
     "data": {
      "text/plain": [
       "numpy.ndarray"
      ]
     },
     "execution_count": 8,
     "metadata": {},
     "output_type": "execute_result"
    }
   ],
   "source": [
    "y = df[\"y\"].to_numpy()\n",
    "type(y)"
   ]
  },
  {
   "cell_type": "code",
   "execution_count": 10,
   "id": "7a1a466d",
   "metadata": {},
   "outputs": [
    {
     "data": {
      "text/plain": [
       "1000"
      ]
     },
     "execution_count": 10,
     "metadata": {},
     "output_type": "execute_result"
    }
   ],
   "source": [
    "len(y)"
   ]
  },
  {
   "cell_type": "code",
   "execution_count": 18,
   "id": "e2a6fb02",
   "metadata": {},
   "outputs": [
    {
     "data": {
      "text/plain": [
       "array([[1.0000000e+00, 5.0000000e-03, 2.5000000e-05],\n",
       "       [1.0000000e+00, 2.4000000e-02, 5.7600000e-04],\n",
       "       [1.0000000e+00, 2.6000000e-02, 6.7600000e-04],\n",
       "       ...,\n",
       "       [1.0000000e+00, 9.9560000e+00, 9.9121936e+01],\n",
       "       [1.0000000e+00, 9.9610000e+00, 9.9221521e+01],\n",
       "       [1.0000000e+00, 9.9880000e+00, 9.9760144e+01]])"
      ]
     },
     "execution_count": 18,
     "metadata": {},
     "output_type": "execute_result"
    }
   ],
   "source": [
    "cantidad_datos= len(df)\n",
    "A = np.zeros((cantidad_datos, 3))\n",
    "A[:,1] = df['x']\n",
    "A[:,2] = df['x'] ** 2\n",
    "A[:,0] = 1\n",
    "A"
   ]
  },
  {
   "cell_type": "code",
   "execution_count": 19,
   "id": "9b216abf",
   "metadata": {},
   "outputs": [
    {
     "name": "stdout",
     "output_type": "stream",
     "text": [
      "[0. 0. 0. 0. 0. 0. 0. 0. 0. 0. 0. 0. 0. 0. 0. 0. 0. 0. 0. 0. 0. 0. 0. 0.\n",
      " 0. 0. 0. 0. 0. 0. 0. 0. 0. 0. 0. 0. 0. 0. 0. 0. 0. 0. 0. 0. 0. 0. 0. 0.\n",
      " 0. 0. 0. 0. 0. 0. 0. 0. 0. 0. 0. 0. 0. 0. 0. 0. 0. 0. 0. 0. 0. 0. 0. 0.\n",
      " 0. 0. 0. 0. 0. 0. 0. 0. 0. 0. 0. 0. 0. 0. 0. 0. 0. 0. 0. 0. 0. 0. 0. 0.\n",
      " 0. 0. 0. 0. 0. 0. 0. 0. 0. 0. 0. 0. 0. 0. 0. 0. 0. 0. 0. 0. 0. 0. 0. 0.\n",
      " 0. 0. 0. 0. 0. 0. 0. 0. 0. 0. 0. 0. 0. 0. 0. 0. 0. 0. 0. 0. 0. 0. 0. 0.\n",
      " 0. 0. 0. 0. 0. 0. 0. 0. 0. 0. 0. 0. 0. 0. 0. 0. 0. 0. 0. 0. 0. 0. 0. 0.\n",
      " 0. 0. 0. 0. 0. 0. 0. 0. 0. 0. 0. 0. 0. 0. 0. 0. 0. 0. 0. 0. 0. 0. 0. 0.\n",
      " 0. 0. 0. 0. 0. 0. 0. 0. 0. 0. 0. 0. 0. 0. 0. 0. 0. 0. 0. 0. 0. 0. 0. 0.\n",
      " 0. 0. 0. 0. 0. 0. 0. 0. 0. 0. 0. 0. 0. 0. 0. 0. 0. 0. 0. 0. 0. 0. 0. 0.\n",
      " 0. 0. 0. 0. 0. 0. 0. 0. 0. 0. 0. 0. 0. 0. 0. 0. 0. 0. 0. 0. 0. 0. 0. 0.\n",
      " 0. 0. 0. 0. 0. 0. 0. 0. 0. 0. 0. 0. 0. 0. 0. 0. 0. 0. 0. 0. 0. 0. 0. 0.\n",
      " 0. 0. 0. 0. 0. 0. 0. 0. 0. 0. 0. 0. 0. 0. 0. 0. 0. 0. 0. 0. 0. 0. 0. 0.\n",
      " 0. 0. 0. 0. 0. 0. 0. 0. 0. 0. 0. 0. 0. 0. 0. 0. 0. 0. 0. 0. 0. 0. 0. 0.\n",
      " 0. 0. 0. 0. 0. 0. 0. 0. 0. 0. 0. 0. 0. 0. 0. 0. 0. 0. 0. 0. 0. 0. 0. 0.\n",
      " 0. 0. 0. 0. 0. 0. 0. 0. 0. 0. 0. 0. 0. 0. 0. 0. 0. 0. 0. 0. 0. 0. 0. 0.\n",
      " 0. 0. 0. 0. 0. 0. 0. 0. 0. 0. 0. 0. 0. 0. 0. 0. 0. 0. 0. 0. 0. 0. 0. 0.\n",
      " 0. 0. 0. 0. 0. 0. 0. 0. 0. 0. 0. 0. 0. 0. 0. 0. 0. 0. 0. 0. 0. 0. 0. 0.\n",
      " 0. 0. 0. 0. 0. 0. 0. 0. 0. 0. 0. 0. 0. 0. 0. 0. 0. 0. 0. 0. 0. 0. 0. 0.\n",
      " 0. 0. 0. 0. 0. 0. 0. 0. 0. 0. 0. 0. 0. 0. 0. 0. 0. 0. 0. 0. 0. 0. 0. 0.\n",
      " 0. 0. 0. 0. 0. 0. 0. 0. 0. 0. 0. 0. 0. 0. 0. 0. 0. 0. 0. 0. 0. 0. 0. 0.\n",
      " 0. 0. 0. 0. 0. 0. 0. 0. 0. 0. 0. 0. 0. 0. 0. 0. 0. 0. 0. 0. 0. 0. 0. 0.\n",
      " 0. 0. 0. 0. 0. 0. 0. 0. 0. 0. 0. 0. 0. 0. 0. 0. 0. 0. 0. 0. 0. 0. 0. 0.\n",
      " 0. 0. 0. 0. 0. 0. 0. 0. 0. 0. 0. 0. 0. 0. 0. 0. 0. 0. 0. 0. 0. 0. 0. 0.\n",
      " 0. 0. 0. 0. 0. 0. 0. 0. 0. 0. 0. 0. 0. 0. 0. 0. 0. 0. 0. 0. 0. 0. 0. 0.\n",
      " 0. 0. 0. 0. 0. 0. 0. 0. 0. 0. 0. 0. 0. 0. 0. 0. 0. 0. 0. 0. 0. 0. 0. 0.\n",
      " 0. 0. 0. 0. 0. 0. 0. 0. 0. 0. 0. 0. 0. 0. 0. 0. 0. 0. 0. 0. 0. 0. 0. 0.\n",
      " 0. 0. 0. 0. 0. 0. 0. 0. 0. 0. 0. 0. 0. 0. 0. 0. 0. 0. 0. 0. 0. 0. 0. 0.\n",
      " 0. 0. 0. 0. 0. 0. 0. 0. 0. 0. 0. 0. 0. 0. 0. 0. 0. 0. 0. 0. 0. 0. 0. 0.\n",
      " 0. 0. 0. 0. 0. 0. 0. 0. 0. 0. 0. 0. 0. 0. 0. 0. 0. 0. 0. 0. 0. 0. 0. 0.\n",
      " 0. 0. 0. 0. 0. 0. 0. 0. 0. 0. 0. 0. 0. 0. 0. 0. 0. 0. 0. 0. 0. 0. 0. 0.\n",
      " 0. 0. 0. 0. 0. 0. 0. 0. 0. 0. 0. 0. 0. 0. 0. 0. 0. 0. 0. 0. 0. 0. 0. 0.\n",
      " 0. 0. 0. 0. 0. 0. 0. 0. 0. 0. 0. 0. 0. 0. 0. 0. 0. 0. 0. 0. 0. 0. 0. 0.\n",
      " 0. 0. 0. 0. 0. 0. 0. 0. 0. 0. 0. 0. 0. 0. 0. 0. 0. 0. 0. 0. 0. 0. 0. 0.\n",
      " 0. 0. 0. 0. 0. 0. 0. 0. 0. 0. 0. 0. 0. 0. 0. 0. 0. 0. 0. 0. 0. 0. 0. 0.\n",
      " 0. 0. 0. 0. 0. 0. 0. 0. 0. 0. 0. 0. 0. 0. 0. 0. 0. 0. 0. 0. 0. 0. 0. 0.\n",
      " 0. 0. 0. 0. 0. 0. 0. 0. 0. 0. 0. 0. 0. 0. 0. 0. 0. 0. 0. 0. 0. 0. 0. 0.\n",
      " 0. 0. 0. 0. 0. 0. 0. 0. 0. 0. 0. 0. 0. 0. 0. 0. 0. 0. 0. 0. 0. 0. 0. 0.\n",
      " 0. 0. 0. 0. 0. 0. 0. 0. 0. 0. 0. 0. 0. 0. 0. 0. 0. 0. 0. 0. 0. 0. 0. 0.\n",
      " 0. 0. 0. 0. 0. 0. 0. 0. 0. 0. 0. 0. 0. 0. 0. 0. 0. 0. 0. 0. 0. 0. 0. 0.\n",
      " 0. 0. 0. 0. 0. 0. 0. 0. 0. 0. 0. 0. 0. 0. 0. 0. 0. 0. 0. 0. 0. 0. 0. 0.\n",
      " 0. 0. 0. 0. 0. 0. 0. 0. 0. 0. 0. 0. 0. 0. 0. 0.]\n"
     ]
    }
   ],
   "source": [
    "x = np.array([0,0,0])\n",
    "#while 1:\n",
    "print((A @ x) - )   \n",
    "    \n",
    "    "
   ]
  },
  {
   "cell_type": "markdown",
   "id": "6b2e0d0e",
   "metadata": {},
   "source": [
    "# Parte 2"
   ]
  },
  {
   "cell_type": "code",
   "execution_count": 18,
   "id": "6d06ed2d",
   "metadata": {},
   "outputs": [
    {
     "data": {
      "text/html": [
       "<div>\n",
       "<style scoped>\n",
       "    .dataframe tbody tr th:only-of-type {\n",
       "        vertical-align: middle;\n",
       "    }\n",
       "\n",
       "    .dataframe tbody tr th {\n",
       "        vertical-align: top;\n",
       "    }\n",
       "\n",
       "    .dataframe thead th {\n",
       "        text-align: right;\n",
       "    }\n",
       "</style>\n",
       "<table border=\"1\" class=\"dataframe\">\n",
       "  <thead>\n",
       "    <tr style=\"text-align: right;\">\n",
       "      <th></th>\n",
       "      <th>X_1</th>\n",
       "      <th>X_2</th>\n",
       "      <th>X_3</th>\n",
       "      <th>Y</th>\n",
       "    </tr>\n",
       "  </thead>\n",
       "  <tbody>\n",
       "    <tr>\n",
       "      <th>0</th>\n",
       "      <td>-2.686493</td>\n",
       "      <td>1.194156</td>\n",
       "      <td>-1.523732</td>\n",
       "      <td>0.0</td>\n",
       "    </tr>\n",
       "    <tr>\n",
       "      <th>1</th>\n",
       "      <td>1.169620</td>\n",
       "      <td>4.006380</td>\n",
       "      <td>1.887160</td>\n",
       "      <td>1.0</td>\n",
       "    </tr>\n",
       "    <tr>\n",
       "      <th>2</th>\n",
       "      <td>0.465563</td>\n",
       "      <td>-1.786808</td>\n",
       "      <td>-1.379655</td>\n",
       "      <td>1.0</td>\n",
       "    </tr>\n",
       "    <tr>\n",
       "      <th>3</th>\n",
       "      <td>-1.577050</td>\n",
       "      <td>2.124255</td>\n",
       "      <td>3.133464</td>\n",
       "      <td>1.0</td>\n",
       "    </tr>\n",
       "    <tr>\n",
       "      <th>4</th>\n",
       "      <td>4.388471</td>\n",
       "      <td>2.247836</td>\n",
       "      <td>4.966874</td>\n",
       "      <td>1.0</td>\n",
       "    </tr>\n",
       "  </tbody>\n",
       "</table>\n",
       "</div>"
      ],
      "text/plain": [
       "        X_1       X_2       X_3    Y\n",
       "0 -2.686493  1.194156 -1.523732  0.0\n",
       "1  1.169620  4.006380  1.887160  1.0\n",
       "2  0.465563 -1.786808 -1.379655  1.0\n",
       "3 -1.577050  2.124255  3.133464  1.0\n",
       "4  4.388471  2.247836  4.966874  1.0"
      ]
     },
     "execution_count": 18,
     "metadata": {},
     "output_type": "execute_result"
    }
   ],
   "source": [
    "df_2 = pd.read_csv(\"P2grupo_5.csv\", header=None)\n",
    "df_2.columns = [\"X_1\",\"X_2\",\"X_3\",\"Y\"]\n",
    "df_2.head()"
   ]
  },
  {
   "cell_type": "code",
   "execution_count": 19,
   "id": "a91087be",
   "metadata": {},
   "outputs": [
    {
     "data": {
      "text/plain": [
       "-2.6864930426990083"
      ]
     },
     "execution_count": 19,
     "metadata": {},
     "output_type": "execute_result"
    }
   ],
   "source": [
    "df_2[\"X_1\"][0]"
   ]
  },
  {
   "cell_type": "code",
   "execution_count": 71,
   "id": "6e97bdce",
   "metadata": {},
   "outputs": [],
   "source": [
    "def J(a,b,c,d,e,f):\n",
    "    y = df_2[\"Y\"]\n",
    "    suma = 0\n",
    "    for i in range(len(df_2)):\n",
    "        y_i = y[i]\n",
    "        parte = a*(df_2[\"X_1\"][i])+b*(df_2[\"X_2\"][i])+c*(df_2[\"X_3\"][i])+e\n",
    "        Y = sigma(parte)\n",
    "        \n",
    "        Z = sigma(d*Y + f)\n",
    "        \n",
    "        suma += (y_i - Z)**2\n",
    "    return suma/len(df_2)"
   ]
  },
  {
   "cell_type": "code",
   "execution_count": 83,
   "id": "9cc00d1f",
   "metadata": {},
   "outputs": [
    {
     "data": {
      "text/plain": [
       "0.5078725014423852"
      ]
     },
     "execution_count": 83,
     "metadata": {},
     "output_type": "execute_result"
    }
   ],
   "source": [
    "J(a_0,b_0,c_0,d_0,e_0,f_0)"
   ]
  },
  {
   "cell_type": "code",
   "execution_count": 99,
   "id": "521d371e",
   "metadata": {},
   "outputs": [
    {
     "name": "stdout",
     "output_type": "stream",
     "text": [
      "CPU times: total: 3min 26s\n",
      "Wall time: 3min 42s\n"
     ]
    }
   ],
   "source": [
    "%%time\n",
    "np.random.seed(0)\n",
    "a_0,b_0,c_0,d_0,e_0,f_0 = np.random.uniform(-5,5., 6) #a,b,c,d,e,f\n",
    "a_k,b_k,c_k,d_k,e_k,f_k = a_0,b_0,c_0,d_0,e_0,f_0\n",
    "epsilon = 0.1\n",
    "errores = []\n",
    "\n",
    "for i in range(2000):\n",
    "    izq = np.transpose(np.array([a_k,b_k,c_k,d_k,e_k,f_k]))\n",
    "    \n",
    "    gradiente = []\n",
    "    gradiente.append(j_respecto_a(a_k,b_k,c_k,d_k,e_k,f_k,df_2[\"X_1\"],df_2[\"X_2\"],df_2[\"X_3\"],df_2[\"Y\"]))#der_a\n",
    "    gradiente.append(j_respecto_b(a_k,b_k,c_k,d_k,e_k,f_k,df_2[\"X_1\"],df_2[\"X_2\"],df_2[\"X_3\"],df_2[\"Y\"]))#der_b\n",
    "    gradiente.append(j_respecto_c(a_k,b_k,c_k,d_k,e_k,f_k,df_2[\"X_1\"],df_2[\"X_2\"],df_2[\"X_3\"],df_2[\"Y\"]))#der_c\n",
    "    gradiente.append(j_respecto_d(a_k,b_k,c_k,d_k,e_k,f_k,df_2[\"X_1\"],df_2[\"X_2\"],df_2[\"X_3\"],df_2[\"Y\"]))#der_d\n",
    "    gradiente.append(j_respecto_e(a_k,b_k,c_k,d_k,e_k,f_k,df_2[\"X_1\"],df_2[\"X_2\"],df_2[\"X_3\"],df_2[\"Y\"]))#der_e\n",
    "    gradiente.append(j_respecto_f(a_k,b_k,c_k,d_k,e_k,f_k,df_2[\"X_1\"],df_2[\"X_2\"],df_2[\"X_3\"],df_2[\"Y\"]))#der_f\n",
    "    gradiente = np.array(gradiente)\n",
    "    \n",
    "    errores.append(J(a_k,b_k,c_k,d_k,e_k,f_k))\n",
    "    \n",
    "    der = epsilon*gradiente\n",
    "    \n",
    "    a_k = izq[0] - der[0]\n",
    "    b_k = izq[1] - der[1]\n",
    "    c_k = izq[2] - der[2]\n",
    "    d_k = izq[3] - der[3]\n",
    "    e_k = izq[4] - der[4]\n",
    "    f_k = izq[5] - der[5]\n"
   ]
  },
  {
   "cell_type": "code",
   "execution_count": 96,
   "id": "e34aaf87",
   "metadata": {},
   "outputs": [
    {
     "name": "stdout",
     "output_type": "stream",
     "text": [
      "0.4912012195711563 2.1506626382194303 1.027527049019677 0.4336481545172942 -0.7674954918476117 1.4200431594284546\n",
      "J: 0.34834533100750126\n"
     ]
    }
   ],
   "source": [
    "print(a_k, b_k, c_k, d_k, e_k, f_k)\n",
    "\n",
    "print(\"J:\", J(a_k, b_k, c_k, d_k, e_k, f_k))"
   ]
  },
  {
   "cell_type": "code",
   "execution_count": 98,
   "id": "e9202977",
   "metadata": {},
   "outputs": [
    {
     "name": "stdout",
     "output_type": "stream",
     "text": [
      "0.5190194957277868 2.1396642688222918 1.0264077757646741 0.3205892669672279 -0.806567906425675 1.1029067964895187\n",
      "J: 0.3152740386870167\n"
     ]
    }
   ],
   "source": [
    "print(a_k, b_k, c_k, d_k, e_k, f_k)\n",
    "\n",
    "print(\"J:\", J(a_k, b_k, c_k, d_k, e_k, f_k))"
   ]
  },
  {
   "cell_type": "code",
   "execution_count": 101,
   "id": "ebb83759",
   "metadata": {},
   "outputs": [
    {
     "data": {
      "text/plain": [
       "<AxesSubplot:>"
      ]
     },
     "execution_count": 101,
     "metadata": {},
     "output_type": "execute_result"
    },
    {
     "data": {
      "image/png": "[encoded data removed]",
      "text/plain": [
       "<Figure size 432x288 with 1 Axes>"
      ]
     },
     "metadata": {
      "needs_background": "light"
     },
     "output_type": "display_data"
    }
   ],
   "source": [
    "sns.lineplot(x=range(0,2000),y=errores)"
   ]
  },
  {
   "cell_type": "code",
   "execution_count": 34,
   "id": "ba23f3df",
   "metadata": {},
   "outputs": [],
   "source": [
    "def sigmoide(t: float):\n",
    "    return 1/(1 + exp(-t))\n",
    "\n",
    "def derivada_sigmoide(t: float):\n",
    "    return (exp(-t)/(1 + exp(-t)) ** 2)\n",
    "\n",
    "def funcion_lambda(a, b, c, d, e, f, u, v, w):\n",
    "    return d*(sigmoide(funcion_phi(a, b, c, e, u, v, w)) + f)\n",
    "\n",
    "def funcion_phi(a, b, c, e, u ,v ,w):\n",
    "    return a*u + b*v + c*w + e\n",
    "              "
   ]
  },
  {
   "cell_type": "code",
   "execution_count": 48,
   "id": "72ffcb71",
   "metadata": {},
   "outputs": [],
   "source": [
    "def j_respecto_f(a,b,c,d,e,f,x1,x2,x3,y):\n",
    "    suma = 0\n",
    "    for i in range(len(x1)):\n",
    "        u = x1[i]\n",
    "        v = x2[i]\n",
    "        w = x3[i]\n",
    "        z = y[i]\n",
    "        sigma_prima = derivada_sigmoide(funcion_lambda(a,b,c,d,e,f,u,v,w))\n",
    "        sigma_l = sigmoide(funcion_lambda(a,b,c,d,e,f,u,v,w))\n",
    "        suma += (sigma_prima * (sigma_l - z))\n",
    "    suma = (suma*2)/len(x1)\n",
    "    return suma"
   ]
  },
  {
   "cell_type": "code",
   "execution_count": 49,
   "id": "baa754fc",
   "metadata": {},
   "outputs": [],
   "source": [
    "def j_respecto_e(a,b,c,d,e,f,x1,x2,x3,y):\n",
    "    suma = 0\n",
    "    for i in range(len(x1)):\n",
    "        u = x1[i]\n",
    "        v = x2[i]\n",
    "        w = x3[i]\n",
    "        z = y[i]\n",
    "        sigma_prima_l = derivada_sigmoide(funcion_lambda(a,b,c,d,e,f,u,v,w))\n",
    "        sigma_prima_p = derivada_sigmoide(funcion_phi(a, b, c, e, u ,v ,w))\n",
    "        sigma_l = sigmoide(funcion_lambda(a,b,c,d,e,f,u,v,w))\n",
    "        suma += (sigma_prima_l *sigma_prima_p *(sigma_l - z))\n",
    "    suma = (suma*2)/len(x1)\n",
    "    return suma"
   ]
  },
  {
   "cell_type": "code",
   "execution_count": 50,
   "id": "d8a8c809",
   "metadata": {},
   "outputs": [],
   "source": [
    "def j_respecto_d(a,b,c,d,e,f,x1,x2,x3,y):\n",
    "    suma = 0\n",
    "    for i in range(len(x1)):\n",
    "        u = x1[i]\n",
    "        v = x2[i]\n",
    "        w = x3[i]\n",
    "        z = y[i]\n",
    "        sigma_prima_l = derivada_sigmoide(funcion_lambda(a,b,c,d,e,f,u,v,w))\n",
    "        sigma_p = sigmoide(funcion_phi(a, b, c, e, u ,v ,w))\n",
    "        sigma_l = sigmoide(funcion_lambda(a,b,c,d,e,f,u,v,w))\n",
    "        suma += (sigma_prima_l *sigma_p *(sigma_l - z))\n",
    "    suma = (suma*2)/len(x1)\n",
    "    return suma"
   ]
  },
  {
   "cell_type": "code",
   "execution_count": 51,
   "id": "87913bab",
   "metadata": {},
   "outputs": [],
   "source": [
    "def j_respecto_c(a,b,c,d,e,f,x1,x2,x3,y):\n",
    "    suma = 0\n",
    "    for i in range(len(x1)):\n",
    "        u = x1[i]\n",
    "        v = x2[i]\n",
    "        w = x3[i]\n",
    "        z = y[i]\n",
    "        sigma_prima_l = derivada_sigmoide(funcion_lambda(a,b,c,d,e,f,u,v,w))\n",
    "        sigma_prima_p = derivada_sigmoide(funcion_phi(a, b, c, e, u ,v ,w))\n",
    "        sigma_l = sigmoide(funcion_lambda(a,b,c,d,e,f,u,v,w))\n",
    "        suma += (sigma_prima_l* d *sigma_prima_p* w *(sigma_l - z))\n",
    "    suma = (suma*2)/len(x1)\n",
    "    return suma"
   ]
  },
  {
   "cell_type": "code",
   "execution_count": 52,
   "id": "9a8d28d6",
   "metadata": {},
   "outputs": [],
   "source": [
    "def j_respecto_b(a,b,c,d,e,f,x1,x2,x3,y):\n",
    "    suma = 0\n",
    "    for i in range(len(x1)):\n",
    "        u = x1[i]\n",
    "        v = x2[i]\n",
    "        w = x3[i]\n",
    "        z = y[i]\n",
    "        sigma_prima_l = derivada_sigmoide(funcion_lambda(a,b,c,d,e,f,u,v,w))\n",
    "        sigma_prima_p = derivada_sigmoide(funcion_phi(a, b, c, e, u ,v ,w))\n",
    "        sigma_l = sigmoide(funcion_lambda(a,b,c,d,e,f,u,v,w))\n",
    "        suma += (sigma_prima_l* d *sigma_prima_p* v *(sigma_l - z))\n",
    "    suma = (suma*2)/len(x1)\n",
    "    return suma"
   ]
  },
  {
   "cell_type": "code",
   "execution_count": 53,
   "id": "3631e0c1",
   "metadata": {},
   "outputs": [],
   "source": [
    "def j_respecto_a(a,b,c,d,e,f,x1,x2,x3,y):\n",
    "    suma = 0\n",
    "    for i in range(len(x1)):\n",
    "        u = x1[i]\n",
    "        v = x2[i]\n",
    "        w = x3[i]\n",
    "        z = y[i]\n",
    "        sigma_prima_l = derivada_sigmoide(funcion_lambda(a,b,c,d,e,f,u,v,w))\n",
    "        sigma_prima_p = derivada_sigmoide(funcion_phi(a, b, c, e, u ,v ,w))\n",
    "        sigma_l = sigmoide(funcion_lambda(a,b,c,d,e,f,u,v,w))\n",
    "        suma += (sigma_prima_l* d *sigma_prima_p* u *(sigma_l - z))\n",
    "    suma = (suma*2)/len(x1)\n",
    "    return suma"
   ]
  },
  {
   "cell_type": "code",
   "execution_count": 65,
   "id": "d2f1cc84",
   "metadata": {},
   "outputs": [
    {
     "data": {
      "text/plain": [
       "-0.0008205618951223665"
      ]
     },
     "execution_count": 65,
     "metadata": {},
     "output_type": "execute_result"
    }
   ],
   "source": [
    "j_respecto_a(a_0,b_0,c_0,d_0,e_0,f_0,df_2[\"X_1\"],df_2[\"X_2\"],df_2[\"X_3\"],df_2[\"Y\"])"
   ]
  },
  {
   "cell_type": "code",
   "execution_count": 29,
   "id": "a286ed86",
   "metadata": {},
   "outputs": [
    {
     "data": {
      "text/plain": [
       "Index(['X_1', 'X_2', 'X_3', 'Y'], dtype='object')"
      ]
     },
     "execution_count": 29,
     "metadata": {},
     "output_type": "execute_result"
    }
   ],
   "source": [
    "df_2.columns"
   ]
  },
  {
   "cell_type": "code",
   "execution_count": null,
   "id": "5433cb38",
   "metadata": {},
   "outputs": [],
   "source": []
  }
 ],
 "metadata": {
  "kernelspec": {
   "display_name": "Python 3 (ipykernel)",
   "language": "python",
   "name": "python3"
  },
  "language_info": {
   "codemirror_mode": {
    "name": "ipython",
    "version": 3
   },
   "file_extension": ".py",
   "mimetype": "text/x-python",
   "name": "python",
   "nbconvert_exporter": "python",
   "pygments_lexer": "ipython3",
   "version": "3.10.6"
  }
 },
 "nbformat": 4,
 "nbformat_minor": 5
}
